{
  "nbformat": 4,
  "nbformat_minor": 0,
  "metadata": {
    "colab": {
      "name": "nltk.ipynb",
      "provenance": [],
      "authorship_tag": "ABX9TyMyx3kl5OUKEXxIXNWdFVqn",
      "include_colab_link": true
    },
    "kernelspec": {
      "name": "python3",
      "display_name": "Python 3"
    },
    "language_info": {
      "name": "python"
    }
  },
  "cells": [
    {
      "cell_type": "markdown",
      "metadata": {
        "id": "view-in-github",
        "colab_type": "text"
      },
      "source": [
        "<a href=\"https://colab.research.google.com/github/Pushpit07/Spam_Email_Detection-Text_Processing-Naive_Bayes/blob/main/nltk.ipynb\" target=\"_parent\"><img src=\"https://colab.research.google.com/assets/colab-badge.svg\" alt=\"Open In Colab\"/></a>"
      ]
    },
    {
      "cell_type": "code",
      "metadata": {
        "id": "5eUbWR1_gD6c"
      },
      "source": [
        "import nltk"
      ],
      "execution_count": 5,
      "outputs": []
    },
    {
      "cell_type": "code",
      "metadata": {
        "colab": {
          "base_uri": "https://localhost:8080/"
        },
        "id": "wv5g11JAsiEs",
        "outputId": "8520c9cb-4879-46f7-d82d-4bf2d1a96de2"
      },
      "source": [
        " nltk.download('brown')\n",
        "from nltk.corpus import brown"
      ],
      "execution_count": 10,
      "outputs": [
        {
          "output_type": "stream",
          "text": [
            "[nltk_data] Downloading package brown to /root/nltk_data...\n",
            "[nltk_data]   Unzipping corpora/brown.zip.\n"
          ],
          "name": "stdout"
        }
      ]
    },
    {
      "cell_type": "code",
      "metadata": {
        "colab": {
          "base_uri": "https://localhost:8080/"
        },
        "id": "EP3ucBwnskhM",
        "outputId": "06246c20-4583-4361-c1a5-61704be5d07e"
      },
      "source": [
        "brown.categories()"
      ],
      "execution_count": 11,
      "outputs": [
        {
          "output_type": "execute_result",
          "data": {
            "text/plain": [
              "['adventure',\n",
              " 'belles_lettres',\n",
              " 'editorial',\n",
              " 'fiction',\n",
              " 'government',\n",
              " 'hobbies',\n",
              " 'humor',\n",
              " 'learned',\n",
              " 'lore',\n",
              " 'mystery',\n",
              " 'news',\n",
              " 'religion',\n",
              " 'reviews',\n",
              " 'romance',\n",
              " 'science_fiction']"
            ]
          },
          "metadata": {
            "tags": []
          },
          "execution_count": 11
        }
      ]
    },
    {
      "cell_type": "code",
      "metadata": {
        "colab": {
          "base_uri": "https://localhost:8080/"
        },
        "id": "FIA9SN1ksmqN",
        "outputId": "e6bbfb00-d877-43f0-b380-d07225b0ae62"
      },
      "source": [
        "brown.words()"
      ],
      "execution_count": 12,
      "outputs": [
        {
          "output_type": "execute_result",
          "data": {
            "text/plain": [
              "['The', 'Fulton', 'County', 'Grand', 'Jury', 'said', ...]"
            ]
          },
          "metadata": {
            "tags": []
          },
          "execution_count": 12
        }
      ]
    },
    {
      "cell_type": "code",
      "metadata": {
        "id": "gMB09ZPatKMA"
      },
      "source": [
        "data = brown.sents(categories=[\"adventure\"])"
      ],
      "execution_count": 13,
      "outputs": []
    },
    {
      "cell_type": "code",
      "metadata": {
        "colab": {
          "base_uri": "https://localhost:8080/"
        },
        "id": "S-ezBLcDtPZ5",
        "outputId": "2964c44e-889f-456e-88d6-b25ee6d39ddf"
      },
      "source": [
        "data"
      ],
      "execution_count": 14,
      "outputs": [
        {
          "output_type": "execute_result",
          "data": {
            "text/plain": [
              "[['Dan', 'Morgan', 'told', 'himself', 'he', 'would', 'forget', 'Ann', 'Turner', '.'], ['He', 'was', 'well', 'rid', 'of', 'her', '.'], ...]"
            ]
          },
          "metadata": {
            "tags": []
          },
          "execution_count": 14
        }
      ]
    },
    {
      "cell_type": "code",
      "metadata": {
        "colab": {
          "base_uri": "https://localhost:8080/",
          "height": 35
        },
        "id": "ukMcjRSZtP1v",
        "outputId": "ab6fad50-f6ff-454a-d040-1ca3e13b2fcf"
      },
      "source": [
        "\" \".join(data[0])"
      ],
      "execution_count": 16,
      "outputs": [
        {
          "output_type": "execute_result",
          "data": {
            "application/vnd.google.colaboratory.intrinsic+json": {
              "type": "string"
            },
            "text/plain": [
              "'Dan Morgan told himself he would forget Ann Turner .'"
            ]
          },
          "metadata": {
            "tags": []
          },
          "execution_count": 16
        }
      ]
    },
    {
      "cell_type": "markdown",
      "metadata": {
        "id": "hyfjIRPiwWOO"
      },
      "source": [
        "# Tokenization"
      ]
    },
    {
      "cell_type": "code",
      "metadata": {
        "id": "dE_XH8XitT8h"
      },
      "source": [
        "from nltk.tokenize import sent_tokenize, word_tokenize"
      ],
      "execution_count": 17,
      "outputs": []
    },
    {
      "cell_type": "code",
      "metadata": {
        "id": "Jav0N-DzwfGl"
      },
      "source": [
        "document = \"\"\" It was a very good movie. The cast was amazing and I liked the story.\n",
        "I went to the movie hall to see it.\n",
        "\"\"\"\n",
        "\n",
        "sentence = \"The Nomad is going to be a big channel\""
      ],
      "execution_count": 22,
      "outputs": []
    },
    {
      "cell_type": "code",
      "metadata": {
        "colab": {
          "base_uri": "https://localhost:8080/"
        },
        "id": "1gz16GogwyY4",
        "outputId": "49e4418c-919d-44a8-b2ed-dbae56cf7d4d"
      },
      "source": [
        "nltk.download('punkt')\n",
        "sents = sent_tokenize(document)\n",
        "print(sents)"
      ],
      "execution_count": 23,
      "outputs": [
        {
          "output_type": "stream",
          "text": [
            "[nltk_data] Downloading package punkt to /root/nltk_data...\n",
            "[nltk_data]   Package punkt is already up-to-date!\n",
            "[' It was a very good movie.', 'The cast was amazing and I liked the story.', 'I went to the movie hall to see it.']\n"
          ],
          "name": "stdout"
        }
      ]
    },
    {
      "cell_type": "code",
      "metadata": {
        "colab": {
          "base_uri": "https://localhost:8080/"
        },
        "id": "lkG6XWYZw35s",
        "outputId": "bda6c891-d731-43cb-a07d-681db51ff8b4"
      },
      "source": [
        "words = word_tokenize(sentence)\n",
        "print(words)\n",
        "len(words)"
      ],
      "execution_count": 24,
      "outputs": [
        {
          "output_type": "stream",
          "text": [
            "['The', 'Nomad', 'is', 'going', 'to', 'be', 'a', 'big', 'channel']\n"
          ],
          "name": "stdout"
        },
        {
          "output_type": "execute_result",
          "data": {
            "text/plain": [
              "9"
            ]
          },
          "metadata": {
            "tags": []
          },
          "execution_count": 24
        }
      ]
    },
    {
      "cell_type": "markdown",
      "metadata": {
        "id": "UWPsW-KBxdxu"
      },
      "source": [
        "# Stopword removal"
      ]
    },
    {
      "cell_type": "code",
      "metadata": {
        "colab": {
          "base_uri": "https://localhost:8080/"
        },
        "id": "WJ_I1rWRxGjC",
        "outputId": "2577f3ca-f6e0-4445-eac0-658fff7dc363"
      },
      "source": [
        "nltk.download('stopwords')\n",
        "from nltk.corpus import stopwords"
      ],
      "execution_count": 28,
      "outputs": [
        {
          "output_type": "stream",
          "text": [
            "[nltk_data] Downloading package stopwords to /root/nltk_data...\n",
            "[nltk_data]   Unzipping corpora/stopwords.zip.\n"
          ],
          "name": "stdout"
        }
      ]
    },
    {
      "cell_type": "code",
      "metadata": {
        "id": "eg7ZLVWPxcGn"
      },
      "source": [
        "sw = set(stopwords.words('english'))"
      ],
      "execution_count": 29,
      "outputs": []
    },
    {
      "cell_type": "code",
      "metadata": {
        "colab": {
          "base_uri": "https://localhost:8080/"
        },
        "id": "ukisef2qxluw",
        "outputId": "e9211899-7a0e-4a0d-c72e-35fd872acd47"
      },
      "source": [
        "sw"
      ],
      "execution_count": 30,
      "outputs": [
        {
          "output_type": "execute_result",
          "data": {
            "text/plain": [
              "{'a',\n",
              " 'about',\n",
              " 'above',\n",
              " 'after',\n",
              " 'again',\n",
              " 'against',\n",
              " 'ain',\n",
              " 'all',\n",
              " 'am',\n",
              " 'an',\n",
              " 'and',\n",
              " 'any',\n",
              " 'are',\n",
              " 'aren',\n",
              " \"aren't\",\n",
              " 'as',\n",
              " 'at',\n",
              " 'be',\n",
              " 'because',\n",
              " 'been',\n",
              " 'before',\n",
              " 'being',\n",
              " 'below',\n",
              " 'between',\n",
              " 'both',\n",
              " 'but',\n",
              " 'by',\n",
              " 'can',\n",
              " 'couldn',\n",
              " \"couldn't\",\n",
              " 'd',\n",
              " 'did',\n",
              " 'didn',\n",
              " \"didn't\",\n",
              " 'do',\n",
              " 'does',\n",
              " 'doesn',\n",
              " \"doesn't\",\n",
              " 'doing',\n",
              " 'don',\n",
              " \"don't\",\n",
              " 'down',\n",
              " 'during',\n",
              " 'each',\n",
              " 'few',\n",
              " 'for',\n",
              " 'from',\n",
              " 'further',\n",
              " 'had',\n",
              " 'hadn',\n",
              " \"hadn't\",\n",
              " 'has',\n",
              " 'hasn',\n",
              " \"hasn't\",\n",
              " 'have',\n",
              " 'haven',\n",
              " \"haven't\",\n",
              " 'having',\n",
              " 'he',\n",
              " 'her',\n",
              " 'here',\n",
              " 'hers',\n",
              " 'herself',\n",
              " 'him',\n",
              " 'himself',\n",
              " 'his',\n",
              " 'how',\n",
              " 'i',\n",
              " 'if',\n",
              " 'in',\n",
              " 'into',\n",
              " 'is',\n",
              " 'isn',\n",
              " \"isn't\",\n",
              " 'it',\n",
              " \"it's\",\n",
              " 'its',\n",
              " 'itself',\n",
              " 'just',\n",
              " 'll',\n",
              " 'm',\n",
              " 'ma',\n",
              " 'me',\n",
              " 'mightn',\n",
              " \"mightn't\",\n",
              " 'more',\n",
              " 'most',\n",
              " 'mustn',\n",
              " \"mustn't\",\n",
              " 'my',\n",
              " 'myself',\n",
              " 'needn',\n",
              " \"needn't\",\n",
              " 'no',\n",
              " 'nor',\n",
              " 'not',\n",
              " 'now',\n",
              " 'o',\n",
              " 'of',\n",
              " 'off',\n",
              " 'on',\n",
              " 'once',\n",
              " 'only',\n",
              " 'or',\n",
              " 'other',\n",
              " 'our',\n",
              " 'ours',\n",
              " 'ourselves',\n",
              " 'out',\n",
              " 'over',\n",
              " 'own',\n",
              " 're',\n",
              " 's',\n",
              " 'same',\n",
              " 'shan',\n",
              " \"shan't\",\n",
              " 'she',\n",
              " \"she's\",\n",
              " 'should',\n",
              " \"should've\",\n",
              " 'shouldn',\n",
              " \"shouldn't\",\n",
              " 'so',\n",
              " 'some',\n",
              " 'such',\n",
              " 't',\n",
              " 'than',\n",
              " 'that',\n",
              " \"that'll\",\n",
              " 'the',\n",
              " 'their',\n",
              " 'theirs',\n",
              " 'them',\n",
              " 'themselves',\n",
              " 'then',\n",
              " 'there',\n",
              " 'these',\n",
              " 'they',\n",
              " 'this',\n",
              " 'those',\n",
              " 'through',\n",
              " 'to',\n",
              " 'too',\n",
              " 'under',\n",
              " 'until',\n",
              " 'up',\n",
              " 've',\n",
              " 'very',\n",
              " 'was',\n",
              " 'wasn',\n",
              " \"wasn't\",\n",
              " 'we',\n",
              " 'were',\n",
              " 'weren',\n",
              " \"weren't\",\n",
              " 'what',\n",
              " 'when',\n",
              " 'where',\n",
              " 'which',\n",
              " 'while',\n",
              " 'who',\n",
              " 'whom',\n",
              " 'why',\n",
              " 'will',\n",
              " 'with',\n",
              " 'won',\n",
              " \"won't\",\n",
              " 'wouldn',\n",
              " \"wouldn't\",\n",
              " 'y',\n",
              " 'you',\n",
              " \"you'd\",\n",
              " \"you'll\",\n",
              " \"you're\",\n",
              " \"you've\",\n",
              " 'your',\n",
              " 'yours',\n",
              " 'yourself',\n",
              " 'yourselves'}"
            ]
          },
          "metadata": {
            "tags": []
          },
          "execution_count": 30
        }
      ]
    },
    {
      "cell_type": "code",
      "metadata": {
        "colab": {
          "base_uri": "https://localhost:8080/"
        },
        "id": "6M0ZNi2_xpL5",
        "outputId": "22595a10-f064-4b13-addd-703f9684eee9"
      },
      "source": [
        "text = \"i am not a very good cricket player\".split()\n",
        "print(text)"
      ],
      "execution_count": 31,
      "outputs": [
        {
          "output_type": "stream",
          "text": [
            "['i', 'am', 'not', 'a', 'very', 'good', 'cricket', 'player']\n"
          ],
          "name": "stdout"
        }
      ]
    },
    {
      "cell_type": "code",
      "metadata": {
        "id": "xlohqRi1xwaz"
      },
      "source": [
        "def remove_stoprwords(text, stopwords):\n",
        "    useful = [w for w in text if w not in stopwords]\n",
        "    return useful"
      ],
      "execution_count": 32,
      "outputs": []
    },
    {
      "cell_type": "code",
      "metadata": {
        "id": "LzrToNFYx1Zu"
      },
      "source": [
        "useful_words = remove_stoprwords(text, sw)"
      ],
      "execution_count": 33,
      "outputs": []
    },
    {
      "cell_type": "code",
      "metadata": {
        "colab": {
          "base_uri": "https://localhost:8080/"
        },
        "id": "DfVGWnsjx30r",
        "outputId": "6fe10126-cc72-486f-9ac8-ec63fc7f1946"
      },
      "source": [
        "useful_words"
      ],
      "execution_count": 34,
      "outputs": [
        {
          "output_type": "execute_result",
          "data": {
            "text/plain": [
              "['good', 'cricket', 'player']"
            ]
          },
          "metadata": {
            "tags": []
          },
          "execution_count": 34
        }
      ]
    },
    {
      "cell_type": "markdown",
      "metadata": {
        "id": "t8SycA2mx87n"
      },
      "source": [
        "# Tokenization using Regex"
      ]
    },
    {
      "cell_type": "code",
      "metadata": {
        "id": "Gm4qKqQCx5NI"
      },
      "source": [
        "sent = \"My email is pbhardwaj@mrktdb.com, Please don't spam my inbox\""
      ],
      "execution_count": 35,
      "outputs": []
    },
    {
      "cell_type": "code",
      "metadata": {
        "id": "6xZCFpF5yepY"
      },
      "source": [
        "from nltk.tokenize import RegexpTokenizer"
      ],
      "execution_count": 36,
      "outputs": []
    },
    {
      "cell_type": "code",
      "metadata": {
        "colab": {
          "base_uri": "https://localhost:8080/"
        },
        "id": "uBp3-fC5zXR6",
        "outputId": "18b26ace-d675-4b2c-a572-2f03f43ff028"
      },
      "source": [
        "tokenizer = RegexpTokenizer('[a-zA-Z@.]+')\n",
        "useful = tokenizer.tokenize(sent)\n",
        "print(useful)"
      ],
      "execution_count": 38,
      "outputs": [
        {
          "output_type": "stream",
          "text": [
            "['My', 'email', 'is', 'pbhardwaj@mrktdb.com', 'Please', 'don', 't', 'spam', 'my', 'inbox']\n"
          ],
          "name": "stdout"
        }
      ]
    },
    {
      "cell_type": "code",
      "metadata": {
        "id": "wQpzmPaXzbO8"
      },
      "source": [
        "from nltk.stem import SnowballStemmer, PorterStemmer, LancasterStemmer"
      ],
      "execution_count": 39,
      "outputs": []
    },
    {
      "cell_type": "code",
      "metadata": {
        "id": "lCizZf0HzyVl"
      },
      "source": [
        "ps = PorterStemmer()"
      ],
      "execution_count": 40,
      "outputs": []
    },
    {
      "cell_type": "code",
      "metadata": {
        "colab": {
          "base_uri": "https://localhost:8080/",
          "height": 35
        },
        "id": "RMa4Ovqyz0aC",
        "outputId": "370fe25b-83e7-4139-e419-ea99cec9d3ae"
      },
      "source": [
        "ps.stem('laughing')"
      ],
      "execution_count": 41,
      "outputs": [
        {
          "output_type": "execute_result",
          "data": {
            "application/vnd.google.colaboratory.intrinsic+json": {
              "type": "string"
            },
            "text/plain": [
              "'laugh'"
            ]
          },
          "metadata": {
            "tags": []
          },
          "execution_count": 41
        }
      ]
    },
    {
      "cell_type": "code",
      "metadata": {
        "id": "LTxF7SB5z1xT"
      },
      "source": [
        "# SnowballStemmer = Multilingual, supports other langs also."
      ],
      "execution_count": 43,
      "outputs": []
    },
    {
      "cell_type": "code",
      "metadata": {
        "id": "D9K8AHE61LFj"
      },
      "source": [
        "corpus = [\n",
        "    'Dan Morgan told himself he would forget Ann Turner.',\n",
        "    'Sometimes he woke up in the middle of the night thinking of Ann , and then could not get back to sleep .',\n",
        "    'His plans and dreams had revolved around her so much and for so long that now he felt as if he had nothing .',\n",
        "    'He found that if he was tired enough at night , he went to sleep simply because he was too exhausted to stay awake .'\n",
        "]"
      ],
      "execution_count": 47,
      "outputs": []
    },
    {
      "cell_type": "code",
      "metadata": {
        "id": "s4ynUM-Cz4wP"
      },
      "source": [
        "from sklearn.feature_extraction.text import CountVectorizer"
      ],
      "execution_count": 48,
      "outputs": []
    },
    {
      "cell_type": "code",
      "metadata": {
        "id": "YavZl9bc1F4i"
      },
      "source": [
        "cv = CountVectorizer()"
      ],
      "execution_count": 49,
      "outputs": []
    },
    {
      "cell_type": "code",
      "metadata": {
        "id": "NC_upRy51JJ6"
      },
      "source": [
        "vc = cv.fit_transform(corpus)"
      ],
      "execution_count": 50,
      "outputs": []
    },
    {
      "cell_type": "code",
      "metadata": {
        "colab": {
          "base_uri": "https://localhost:8080/"
        },
        "id": "A49glOWn1Pkr",
        "outputId": "c116444a-f656-496a-8bc9-13c733a58ff0"
      },
      "source": [
        "vc = vc.toarray()\n",
        "print(vc)\n",
        "print(cv.vocabulary_)"
      ],
      "execution_count": 51,
      "outputs": [
        {
          "output_type": "stream",
          "text": [
            "[[0 1 0 0 0 0 0 0 0 1 0 0 0 0 0 1 0 0 0 1 0 1 0 0 0 0 0 1 0 0 0 0 0 0 0 0\n",
            "  0 0 0 0 0 0 0 0 0 0 0 1 0 1 0 0 0 0 1]\n",
            " [1 1 0 0 0 0 1 0 1 0 0 0 0 0 0 0 0 1 0 1 0 0 0 0 1 0 1 0 0 1 1 0 0 2 0 0\n",
            "  0 1 0 1 0 0 2 1 1 0 1 0 0 0 1 0 0 1 0]\n",
            " [2 0 1 1 0 0 0 0 0 0 1 0 0 1 1 0 0 0 2 2 1 0 1 1 0 1 0 0 1 0 0 1 1 0 1 1\n",
            "  0 0 2 0 0 1 0 0 0 0 0 0 0 0 0 0 0 0 0]\n",
            " [0 0 0 0 1 1 0 1 0 0 0 1 1 0 0 0 1 0 0 4 0 0 0 1 0 0 0 0 0 1 0 0 0 0 0 0\n",
            "  1 1 0 0 1 1 0 0 0 1 2 0 1 0 0 2 1 0 0]]\n",
            "{'dan': 9, 'morgan': 27, 'told': 47, 'himself': 21, 'he': 19, 'would': 54, 'forget': 15, 'ann': 1, 'turner': 49, 'sometimes': 39, 'woke': 53, 'up': 50, 'in': 24, 'the': 42, 'middle': 26, 'of': 33, 'night': 29, 'thinking': 44, 'and': 0, 'then': 43, 'could': 8, 'not': 30, 'get': 17, 'back': 6, 'to': 46, 'sleep': 37, 'his': 22, 'plans': 34, 'dreams': 10, 'had': 18, 'revolved': 35, 'around': 2, 'her': 20, 'so': 38, 'much': 28, 'for': 14, 'long': 25, 'that': 41, 'now': 32, 'felt': 13, 'as': 3, 'if': 23, 'nothing': 31, 'found': 16, 'was': 51, 'tired': 45, 'enough': 11, 'at': 4, 'went': 52, 'simply': 36, 'because': 7, 'too': 48, 'exhausted': 12, 'stay': 40, 'awake': 5}\n"
          ],
          "name": "stdout"
        }
      ]
    },
    {
      "cell_type": "code",
      "metadata": {
        "colab": {
          "base_uri": "https://localhost:8080/"
        },
        "id": "Nzp_QMTD5Lpc",
        "outputId": "527189cd-718a-4ff1-e92b-9cb3930b1d1c"
      },
      "source": [
        "print(len(cv.vocabulary_))"
      ],
      "execution_count": 52,
      "outputs": [
        {
          "output_type": "stream",
          "text": [
            "55\n"
          ],
          "name": "stdout"
        }
      ]
    },
    {
      "cell_type": "code",
      "metadata": {
        "id": "IfTaEKUB6KOt"
      },
      "source": [
        "def myTokenizer(document):\n",
        "    words = tokenizer.tokenize(document.lower())\n",
        "    # remove the stopwords\n",
        "    words = remove_stoprwords(words, sw)\n",
        "    return words"
      ],
      "execution_count": 53,
      "outputs": []
    },
    {
      "cell_type": "code",
      "metadata": {
        "colab": {
          "base_uri": "https://localhost:8080/"
        },
        "id": "oRJmdaul7XaC",
        "outputId": "2261a171-9b06-4f05-ce88-b9c61a17c103"
      },
      "source": [
        "myTokenizer('this is a random text')"
      ],
      "execution_count": 54,
      "outputs": [
        {
          "output_type": "execute_result",
          "data": {
            "text/plain": [
              "['random', 'text']"
            ]
          },
          "metadata": {
            "tags": []
          },
          "execution_count": 54
        }
      ]
    },
    {
      "cell_type": "code",
      "metadata": {
        "id": "hH1KIAjq7X3I"
      },
      "source": [
        "cv = CountVectorizer(tokenizer=myTokenizer)"
      ],
      "execution_count": 55,
      "outputs": []
    },
    {
      "cell_type": "code",
      "metadata": {
        "id": "0EFyCBDN7aKR"
      },
      "source": [
        "vc = cv.fit_transform(corpus).toarray()"
      ],
      "execution_count": 56,
      "outputs": []
    },
    {
      "cell_type": "code",
      "metadata": {
        "colab": {
          "base_uri": "https://localhost:8080/"
        },
        "id": "84vcLPNz7dCm",
        "outputId": "8b79f2a6-3e76-4571-f597-5832f2eb3760"
      },
      "source": [
        "print(vc)"
      ],
      "execution_count": 57,
      "outputs": [
        {
          "output_type": "stream",
          "text": [
            "[[0 1 0 0 0 0 1 0 0 0 0 1 0 0 0 0 1 0 0 0 0 0 0 0 0 0 0 0 1 1 0 0 1]\n",
            " [1 1 0 0 1 1 0 0 0 0 0 0 0 1 0 1 0 0 1 0 0 0 0 1 1 0 1 0 0 0 0 1 0]\n",
            " [1 0 1 0 0 0 0 1 0 0 1 0 0 0 1 0 0 1 0 1 1 1 0 0 0 0 0 0 0 0 0 0 0]\n",
            " [1 0 0 1 0 0 0 0 1 1 0 0 1 0 0 0 0 0 1 0 0 0 1 1 0 1 0 1 0 0 1 0 0]]\n"
          ],
          "name": "stdout"
        }
      ]
    },
    {
      "cell_type": "code",
      "metadata": {
        "colab": {
          "base_uri": "https://localhost:8080/"
        },
        "id": "VWukz-So7jB3",
        "outputId": "2d1098af-bfcb-4c78-882d-0804d779f8e3"
      },
      "source": [
        "len(vc[0])"
      ],
      "execution_count": 60,
      "outputs": [
        {
          "output_type": "execute_result",
          "data": {
            "text/plain": [
              "33"
            ]
          },
          "metadata": {
            "tags": []
          },
          "execution_count": 60
        }
      ]
    },
    {
      "cell_type": "code",
      "metadata": {
        "colab": {
          "base_uri": "https://localhost:8080/"
        },
        "id": "LiqZcC667jtT",
        "outputId": "f923364e-b587-400a-95f7-9a223aeb848d"
      },
      "source": [
        "cv.vocabulary_"
      ],
      "execution_count": 61,
      "outputs": [
        {
          "output_type": "execute_result",
          "data": {
            "text/plain": [
              "{'.': 0,\n",
              " 'ann': 1,\n",
              " 'around': 2,\n",
              " 'awake': 3,\n",
              " 'back': 4,\n",
              " 'could': 5,\n",
              " 'dan': 6,\n",
              " 'dreams': 7,\n",
              " 'enough': 8,\n",
              " 'exhausted': 9,\n",
              " 'felt': 10,\n",
              " 'forget': 11,\n",
              " 'found': 12,\n",
              " 'get': 13,\n",
              " 'long': 14,\n",
              " 'middle': 15,\n",
              " 'morgan': 16,\n",
              " 'much': 17,\n",
              " 'night': 18,\n",
              " 'nothing': 19,\n",
              " 'plans': 20,\n",
              " 'revolved': 21,\n",
              " 'simply': 22,\n",
              " 'sleep': 23,\n",
              " 'sometimes': 24,\n",
              " 'stay': 25,\n",
              " 'thinking': 26,\n",
              " 'tired': 27,\n",
              " 'told': 28,\n",
              " 'turner.': 29,\n",
              " 'went': 30,\n",
              " 'woke': 31,\n",
              " 'would': 32}"
            ]
          },
          "metadata": {
            "tags": []
          },
          "execution_count": 61
        }
      ]
    },
    {
      "cell_type": "code",
      "metadata": {
        "colab": {
          "base_uri": "https://localhost:8080/"
        },
        "id": "bgAfChtc7kXC",
        "outputId": "46d64a85-063f-46ff-c284-45089ea8275e"
      },
      "source": [
        "len(cv.transform([sent]).toarray()[0])"
      ],
      "execution_count": 62,
      "outputs": [
        {
          "output_type": "execute_result",
          "data": {
            "text/plain": [
              "33"
            ]
          },
          "metadata": {
            "tags": []
          },
          "execution_count": 62
        }
      ]
    },
    {
      "cell_type": "code",
      "metadata": {
        "colab": {
          "base_uri": "https://localhost:8080/"
        },
        "id": "NHPNdfBW8zv_",
        "outputId": "2b37ed1a-6e62-4042-8815-1bc51fc27205"
      },
      "source": [
        "cv.vocabulary_"
      ],
      "execution_count": 63,
      "outputs": [
        {
          "output_type": "execute_result",
          "data": {
            "text/plain": [
              "{'.': 0,\n",
              " 'ann': 1,\n",
              " 'around': 2,\n",
              " 'awake': 3,\n",
              " 'back': 4,\n",
              " 'could': 5,\n",
              " 'dan': 6,\n",
              " 'dreams': 7,\n",
              " 'enough': 8,\n",
              " 'exhausted': 9,\n",
              " 'felt': 10,\n",
              " 'forget': 11,\n",
              " 'found': 12,\n",
              " 'get': 13,\n",
              " 'long': 14,\n",
              " 'middle': 15,\n",
              " 'morgan': 16,\n",
              " 'much': 17,\n",
              " 'night': 18,\n",
              " 'nothing': 19,\n",
              " 'plans': 20,\n",
              " 'revolved': 21,\n",
              " 'simply': 22,\n",
              " 'sleep': 23,\n",
              " 'sometimes': 24,\n",
              " 'stay': 25,\n",
              " 'thinking': 26,\n",
              " 'tired': 27,\n",
              " 'told': 28,\n",
              " 'turner.': 29,\n",
              " 'went': 30,\n",
              " 'woke': 31,\n",
              " 'would': 32}"
            ]
          },
          "metadata": {
            "tags": []
          },
          "execution_count": 63
        }
      ]
    },
    {
      "cell_type": "code",
      "metadata": {
        "id": "aNPJpS3I-Fbo"
      },
      "source": [
        ""
      ],
      "execution_count": null,
      "outputs": []
    }
  ]
}